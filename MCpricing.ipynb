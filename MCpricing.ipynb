{
 "metadata": {
  "kernelspec": {
   "language": "python",
   "display_name": "Python 3",
   "name": "python3"
  },
  "language_info": {
   "name": "python",
   "version": "3.7.12",
   "mimetype": "text/x-python",
   "codemirror_mode": {
    "name": "ipython",
    "version": 3
   },
   "pygments_lexer": "ipython3",
   "nbconvert_exporter": "python",
   "file_extension": ".py"
  }
 },
 "nbformat_minor": 4,
 "nbformat": 4,
 "cells": [
  {
   "cell_type": "code",
   "source": [
    "import numpy as np\n",
    "import pandas as pd\n",
    "import matplotlib.pyplot as plt\n",
    "import random\n",
    "from pandas import DataFrame\n"
   ],
   "metadata": {
    "_uuid": "203015df-5b7b-45c2-b964-6eeca07adfdf",
    "_cell_guid": "e835ed6d-b4c9-4b85-bba9-9d4fb2cb2549",
    "collapsed": false,
    "jupyter": {
     "outputs_hidden": false
    },
    "execution": {
     "iopub.status.busy": "2022-12-11T11:28:37.340425Z",
     "iopub.execute_input": "2022-12-11T11:28:37.340845Z",
     "iopub.status.idle": "2022-12-11T11:28:37.350512Z",
     "shell.execute_reply.started": "2022-12-11T11:28:37.340766Z",
     "shell.execute_reply": "2022-12-11T11:28:37.349506Z"
    },
    "trusted": true
   },
   "execution_count": 1,
   "outputs": []
  },
  {
   "cell_type": "code",
   "source": [
    "s0 = 68.04\n",
    "k = s0\n",
    "r = 0.02\n",
    "sigma = 0.365515\n",
    "T = 0.5\n",
    "t = 1/200\n",
    "days = int(T*200)"
   ],
   "metadata": {
    "execution": {
     "iopub.status.busy": "2022-12-11T11:28:37.352586Z",
     "iopub.execute_input": "2022-12-11T11:28:37.354288Z",
     "iopub.status.idle": "2022-12-11T11:28:37.360688Z",
     "shell.execute_reply.started": "2022-12-11T11:28:37.354244Z",
     "shell.execute_reply": "2022-12-11T11:28:37.359924Z"
    },
    "trusted": true
   },
   "execution_count": 2,
   "outputs": []
  },
  {
   "cell_type": "code",
   "source": [
    "def ST (n):\n",
    "    price = []\n",
    "\n",
    "    for i in range(1,n+1):\n",
    "        st = []\n",
    "        s = s0\n",
    "        st.append(s0) #\n",
    "        for day in range(1,days): \n",
    "            s=s*np.exp(((r-0.5*(sigma**2))*t)+sigma*np.sqrt(t)*np.random.normal(0,1))\n",
    "            st.append(s)\n",
    "        price.append(st)\n",
    "    price = pd.DataFrame(price).T\n",
    "    return price"
   ],
   "metadata": {
    "execution": {
     "iopub.status.busy": "2022-12-11T11:28:37.362073Z",
     "iopub.execute_input": "2022-12-11T11:28:37.362711Z",
     "iopub.status.idle": "2022-12-11T11:28:37.371530Z",
     "shell.execute_reply.started": "2022-12-11T11:28:37.362680Z",
     "shell.execute_reply": "2022-12-11T11:28:37.370534Z"
    },
    "trusted": true
   },
   "execution_count": 3,
   "outputs": []
  },
  {
   "cell_type": "code",
   "source": [
    "def FP (STprice):\n",
    "    final_price = np.array(STprice.iloc[-1:].T).flatten()\n",
    "    opt = pd.DataFrame({'final_price': final_price})\n",
    "    opt.insert(1,'call_payoff',\"\")\n",
    "    opt.insert(2,'put_payoff',\"\")\n",
    "    opt.insert(3,'call_pv',\"\")\n",
    "    opt.insert(4,'put_pv',\"\")\n",
    "    opt['call_payoff'] = opt['final_price'].apply(lambda x: np.mean(np.maximum(x-k,0)))\n",
    "    opt['put_payoff'] = opt['final_price'].apply(lambda x: np.mean(np.maximum(k-x,0)))\n",
    "    opt['call_pv'] = opt['call_payoff'].apply(lambda x: x*np.exp(-r*T))\n",
    "    opt['put_pv'] = opt['put_payoff'].apply(lambda x: x*np.exp(-r*T))\n",
    "    opt.drop(opt.head(10).index,inplace=True) \n",
    "    return opt"
   ],
   "metadata": {
    "execution": {
     "iopub.status.busy": "2022-12-11T11:28:37.372548Z",
     "iopub.execute_input": "2022-12-11T11:28:37.373337Z",
     "iopub.status.idle": "2022-12-11T11:28:37.386141Z",
     "shell.execute_reply.started": "2022-12-11T11:28:37.373308Z",
     "shell.execute_reply": "2022-12-11T11:28:37.385112Z"
    },
    "trusted": true
   },
   "execution_count": 4,
   "outputs": []
  },
  {
   "cell_type": "code",
   "source": [
    "def call(FPprice):\n",
    "    call_price = FPprice[\"call_pv\"].mean()\n",
    "    return call_price \n",
    "\n",
    "def put(FPprice):\n",
    "    put_price = FPprice[\"put_pv\"].mean()\n",
    "    return put_price"
   ],
   "metadata": {
    "execution": {
     "iopub.status.busy": "2022-12-11T11:28:37.388387Z",
     "iopub.execute_input": "2022-12-11T11:28:37.388908Z",
     "iopub.status.idle": "2022-12-11T11:28:37.399779Z",
     "shell.execute_reply.started": "2022-12-11T11:28:37.388871Z",
     "shell.execute_reply": "2022-12-11T11:28:37.398829Z"
    },
    "trusted": true
   },
   "execution_count": 5,
   "outputs": []
  },
  {
   "cell_type": "code",
   "source": [
    "def c_option_price(n):\n",
    "    stprice = ST (n)\n",
    "    fpprice = FP (stprice)\n",
    "    call_price = call(fpprice)\n",
    "    return call_price"
   ],
   "metadata": {
    "execution": {
     "iopub.status.busy": "2022-12-11T11:28:37.401441Z",
     "iopub.execute_input": "2022-12-11T11:28:37.401797Z",
     "iopub.status.idle": "2022-12-11T11:28:37.409600Z",
     "shell.execute_reply.started": "2022-12-11T11:28:37.401765Z",
     "shell.execute_reply": "2022-12-11T11:28:37.408585Z"
    },
    "trusted": true
   },
   "execution_count": 6,
   "outputs": []
  },
  {
   "cell_type": "code",
   "source": [
    "def p_option_price(n):\n",
    "    stprice = ST (n)\n",
    "    fpprice = FP (stprice)\n",
    "    put_price = put(fpprice)\n",
    "    return put_price"
   ],
   "metadata": {
    "execution": {
     "iopub.status.busy": "2022-12-11T11:28:37.410581Z",
     "iopub.execute_input": "2022-12-11T11:28:37.411633Z",
     "iopub.status.idle": "2022-12-11T11:28:37.420799Z",
     "shell.execute_reply.started": "2022-12-11T11:28:37.411581Z",
     "shell.execute_reply": "2022-12-11T11:28:37.419592Z"
    },
    "trusted": true
   },
   "execution_count": 7,
   "outputs": []
  },
  {
   "cell_type": "code",
   "source": [
    "#c_option_price(51)\n",
    "#p_option_price(51)"
   ],
   "metadata": {
    "execution": {
     "iopub.status.busy": "2022-12-11T11:28:37.422993Z",
     "iopub.execute_input": "2022-12-11T11:28:37.423482Z",
     "iopub.status.idle": "2022-12-11T11:28:37.430391Z",
     "shell.execute_reply.started": "2022-12-11T11:28:37.423456Z",
     "shell.execute_reply": "2022-12-11T11:28:37.429725Z"
    },
    "trusted": true
   },
   "execution_count": 8,
   "outputs": []
  },
  {
   "cell_type": "code",
   "source": [
    "path = []\n",
    "CCall = []\n",
    "PPut = []\n",
    "for i in range(10,101):\n",
    "    path.append(i)\n",
    "    c = c_option_price(i)\n",
    "    p = p_option_price(i)\n",
    "    CCall.append(c)\n",
    "    PPut.append(p)"
   ],
   "metadata": {
    "execution": {
     "iopub.status.busy": "2022-12-11T11:28:37.431490Z",
     "iopub.execute_input": "2022-12-11T11:28:37.432149Z",
     "iopub.status.idle": "2022-12-11T11:28:44.522411Z",
     "shell.execute_reply.started": "2022-12-11T11:28:37.432120Z",
     "shell.execute_reply": "2022-12-11T11:28:44.521707Z"
    },
    "trusted": true
   },
   "execution_count": 9,
   "outputs": []
  },
  {
   "cell_type": "code",
   "source": [
    "merge_dt_dict = {'path':path,\n",
    "                'call':CCall,\n",
    "                'put':PPut}\n",
    "\n",
    "data_df = DataFrame(merge_dt_dict)"
   ],
   "metadata": {
    "execution": {
     "iopub.status.busy": "2022-12-11T11:28:44.523636Z",
     "iopub.execute_input": "2022-12-11T11:28:44.524132Z",
     "iopub.status.idle": "2022-12-11T11:28:44.528179Z",
     "shell.execute_reply.started": "2022-12-11T11:28:44.524106Z",
     "shell.execute_reply": "2022-12-11T11:28:44.527523Z"
    },
    "trusted": true
   },
   "execution_count": 10,
   "outputs": []
  },
  {
   "cell_type": "code",
   "source": [
    "data_df"
   ],
   "metadata": {
    "execution": {
     "iopub.status.busy": "2022-12-11T11:28:44.530601Z",
     "iopub.execute_input": "2022-12-11T11:28:44.531114Z",
     "iopub.status.idle": "2022-12-11T11:28:44.550355Z",
     "shell.execute_reply.started": "2022-12-11T11:28:44.531081Z",
     "shell.execute_reply": "2022-12-11T11:28:44.549229Z"
    },
    "trusted": true
   },
   "execution_count": 11,
   "outputs": [
    {
     "execution_count": 11,
     "output_type": "execute_result",
     "data": {
      "text/plain": "    path       call        put\n0     10        NaN        NaN\n1     11  17.256869  11.764891\n2     12   2.412149   0.000000\n3     13   0.000000  11.958281\n4     14   9.163197  10.059805\n..   ...        ...        ...\n86    96   8.715434   6.720374\n87    97   9.711947   6.445816\n88    98   8.047544   7.069059\n89    99   6.200639   6.416649\n90   100   6.311791   5.152255\n\n[91 rows x 3 columns]",
      "text/html": "<div>\n<style scoped>\n    .dataframe tbody tr th:only-of-type {\n        vertical-align: middle;\n    }\n\n    .dataframe tbody tr th {\n        vertical-align: top;\n    }\n\n    .dataframe thead th {\n        text-align: right;\n    }\n</style>\n<table border=\"1\" class=\"dataframe\">\n  <thead>\n    <tr style=\"text-align: right;\">\n      <th></th>\n      <th>path</th>\n      <th>call</th>\n      <th>put</th>\n    </tr>\n  </thead>\n  <tbody>\n    <tr>\n      <th>0</th>\n      <td>10</td>\n      <td>NaN</td>\n      <td>NaN</td>\n    </tr>\n    <tr>\n      <th>1</th>\n      <td>11</td>\n      <td>17.256869</td>\n      <td>11.764891</td>\n    </tr>\n    <tr>\n      <th>2</th>\n      <td>12</td>\n      <td>2.412149</td>\n      <td>0.000000</td>\n    </tr>\n    <tr>\n      <th>3</th>\n      <td>13</td>\n      <td>0.000000</td>\n      <td>11.958281</td>\n    </tr>\n    <tr>\n      <th>4</th>\n      <td>14</td>\n      <td>9.163197</td>\n      <td>10.059805</td>\n    </tr>\n    <tr>\n      <th>...</th>\n      <td>...</td>\n      <td>...</td>\n      <td>...</td>\n    </tr>\n    <tr>\n      <th>86</th>\n      <td>96</td>\n      <td>8.715434</td>\n      <td>6.720374</td>\n    </tr>\n    <tr>\n      <th>87</th>\n      <td>97</td>\n      <td>9.711947</td>\n      <td>6.445816</td>\n    </tr>\n    <tr>\n      <th>88</th>\n      <td>98</td>\n      <td>8.047544</td>\n      <td>7.069059</td>\n    </tr>\n    <tr>\n      <th>89</th>\n      <td>99</td>\n      <td>6.200639</td>\n      <td>6.416649</td>\n    </tr>\n    <tr>\n      <th>90</th>\n      <td>100</td>\n      <td>6.311791</td>\n      <td>5.152255</td>\n    </tr>\n  </tbody>\n</table>\n<p>91 rows × 3 columns</p>\n</div>"
     },
     "metadata": {}
    }
   ]
  },
  {
   "cell_type": "code",
   "source": [
    "plt.figure(figsize=(12,6))\n",
    "plt.title('Call Monte Carlo VS BS')\n",
    "plt.axhline(y=7.30498, color='r', linestyle='-')\n",
    "plt.plot(data_df['call'])"
   ],
   "metadata": {
    "execution": {
     "iopub.status.busy": "2022-12-11T11:31:25.906619Z",
     "iopub.execute_input": "2022-12-11T11:31:25.907000Z",
     "iopub.status.idle": "2022-12-11T11:31:26.070081Z",
     "shell.execute_reply.started": "2022-12-11T11:31:25.906970Z",
     "shell.execute_reply": "2022-12-11T11:31:26.069014Z"
    },
    "trusted": true
   },
   "execution_count": 29,
   "outputs": [
    {
     "execution_count": 29,
     "output_type": "execute_result",
     "data": {
      "text/plain": "[<matplotlib.lines.Line2D at 0x7f4aa5872d50>]"
     },
     "metadata": {}
    },
    {
     "output_type": "display_data",
     "data": {
      "text/plain": "<Figure size 864x432 with 1 Axes>",
      "image/png": "[encoded data removed]"
     },
     "metadata": {
      "needs_background": "light"
     }
    }
   ]
  },
  {
   "cell_type": "code",
   "source": [
    "plt.figure(figsize=(12,6))\n",
    "plt.title('Put Monte Carlo VS BS')\n",
    "plt.axhline(y=6.62798, color='r', linestyle='-')\n",
    "plt.plot(data_df['put'])"
   ],
   "metadata": {
    "execution": {
     "iopub.status.busy": "2022-12-11T11:31:28.752068Z",
     "iopub.execute_input": "2022-12-11T11:31:28.753078Z",
     "iopub.status.idle": "2022-12-11T11:31:28.923511Z",
     "shell.execute_reply.started": "2022-12-11T11:31:28.752987Z",
     "shell.execute_reply": "2022-12-11T11:31:28.922352Z"
    },
    "trusted": true
   },
   "execution_count": 30,
   "outputs": [
    {
     "execution_count": 30,
     "output_type": "execute_result",
     "data": {
      "text/plain": "[<matplotlib.lines.Line2D at 0x7f4aa5672210>]"
     },
     "metadata": {}
    },
    {
     "output_type": "display_data",
     "data": {
      "text/plain": "<Figure size 864x432 with 1 Axes>",
      "image/png": "[encoded data removed]"
     },
     "metadata": {
      "needs_background": "light"
     }
    }
   ]
  },
  {
   "cell_type": "code",
   "source": [
    "#price = []\n",
    "\n",
    "#for i in range(1,101):\n",
    "#    st = []\n",
    "#    s = s0\n",
    "#    st.append(s0) #\n",
    "#    for day in range(1,days): \n",
    "#        s=s*np.exp(((r-0.5*(sigma**2))*t)+sigma*np.sqrt(t)*np.random.normal(0,1))\n",
    "#        st.append(s)\n",
    "#    price.append(st)\n",
    "#price = pd.DataFrame(price).T  "
   ],
   "metadata": {
    "execution": {
     "iopub.status.busy": "2022-12-11T11:28:44.551359Z",
     "iopub.execute_input": "2022-12-11T11:28:44.551634Z",
     "iopub.status.idle": "2022-12-11T11:28:44.555884Z",
     "shell.execute_reply.started": "2022-12-11T11:28:44.551608Z",
     "shell.execute_reply": "2022-12-11T11:28:44.554819Z"
    },
    "trusted": true
   },
   "execution_count": 12,
   "outputs": []
  },
  {
   "cell_type": "code",
   "source": [
    "#price"
   ],
   "metadata": {
    "execution": {
     "iopub.status.busy": "2022-12-11T11:28:44.556958Z",
     "iopub.execute_input": "2022-12-11T11:28:44.557229Z",
     "iopub.status.idle": "2022-12-11T11:28:44.565758Z",
     "shell.execute_reply.started": "2022-12-11T11:28:44.557205Z",
     "shell.execute_reply": "2022-12-11T11:28:44.564708Z"
    },
    "trusted": true
   },
   "execution_count": 13,
   "outputs": []
  },
  {
   "cell_type": "code",
   "source": [
    "#plt.figure(figsize=(12,6))\n",
    "#plt.plot(price)\n",
    "#plt.title('Monte Carlo Stock Price')\n",
    "#plt.xlabel('Date')\n",
    "#plt.ylabel('Price')"
   ],
   "metadata": {
    "execution": {
     "iopub.status.busy": "2022-12-11T11:28:44.567147Z",
     "iopub.execute_input": "2022-12-11T11:28:44.567496Z",
     "iopub.status.idle": "2022-12-11T11:28:44.575529Z",
     "shell.execute_reply.started": "2022-12-11T11:28:44.567470Z",
     "shell.execute_reply": "2022-12-11T11:28:44.574472Z"
    },
    "trusted": true
   },
   "execution_count": 14,
   "outputs": []
  },
  {
   "cell_type": "code",
   "source": [
    "#final_price = np.array(price.iloc[-1:].T).flatten()\n",
    "#final_price"
   ],
   "metadata": {
    "execution": {
     "iopub.status.busy": "2022-12-11T11:28:44.577121Z",
     "iopub.execute_input": "2022-12-11T11:28:44.577715Z",
     "iopub.status.idle": "2022-12-11T11:28:44.583854Z",
     "shell.execute_reply.started": "2022-12-11T11:28:44.577683Z",
     "shell.execute_reply": "2022-12-11T11:28:44.582933Z"
    },
    "trusted": true
   },
   "execution_count": 15,
   "outputs": []
  },
  {
   "cell_type": "code",
   "source": [
    "#opt = pd.DataFrame({'final_price': final_price})\n",
    "#opt.insert(1,'call_payoff',\"\")\n",
    "#opt.insert(2,'put_payoff',\"\")\n",
    "#opt.insert(3,'call_pv',\"\")\n",
    "#opt.insert(4,'put_pv',\"\")"
   ],
   "metadata": {
    "execution": {
     "iopub.status.busy": "2022-12-11T11:28:44.585458Z",
     "iopub.execute_input": "2022-12-11T11:28:44.586193Z",
     "iopub.status.idle": "2022-12-11T11:28:44.592911Z",
     "shell.execute_reply.started": "2022-12-11T11:28:44.586167Z",
     "shell.execute_reply": "2022-12-11T11:28:44.592260Z"
    },
    "trusted": true
   },
   "execution_count": 16,
   "outputs": []
  },
  {
   "cell_type": "code",
   "source": [
    "#opt['call_payoff'] = opt['final_price'].apply(lambda x: np.mean(np.maximum(x-k,0)))\n",
    "#opt['put_payoff'] = opt['final_price'].apply(lambda x: np.mean(np.maximum(k-x,0)))"
   ],
   "metadata": {
    "execution": {
     "iopub.status.busy": "2022-12-11T11:28:44.593851Z",
     "iopub.execute_input": "2022-12-11T11:28:44.594574Z",
     "iopub.status.idle": "2022-12-11T11:28:44.605668Z",
     "shell.execute_reply.started": "2022-12-11T11:28:44.594549Z",
     "shell.execute_reply": "2022-12-11T11:28:44.604381Z"
    },
    "trusted": true
   },
   "execution_count": 17,
   "outputs": []
  },
  {
   "cell_type": "code",
   "source": [
    "#opt['call_pv'] = opt['call_payoff'].apply(lambda x: x*np.exp(-r*T))"
   ],
   "metadata": {
    "execution": {
     "iopub.status.busy": "2022-12-11T11:28:44.609059Z",
     "iopub.execute_input": "2022-12-11T11:28:44.609516Z",
     "iopub.status.idle": "2022-12-11T11:28:44.614696Z",
     "shell.execute_reply.started": "2022-12-11T11:28:44.609490Z",
     "shell.execute_reply": "2022-12-11T11:28:44.614013Z"
    },
    "trusted": true
   },
   "execution_count": 18,
   "outputs": []
  },
  {
   "cell_type": "code",
   "source": [
    "#opt['put_pv'] = opt['put_payoff'].apply(lambda x: x*np.exp(-r*T))"
   ],
   "metadata": {
    "execution": {
     "iopub.status.busy": "2022-12-11T11:28:44.615756Z",
     "iopub.execute_input": "2022-12-11T11:28:44.616194Z",
     "iopub.status.idle": "2022-12-11T11:28:44.623486Z",
     "shell.execute_reply.started": "2022-12-11T11:28:44.616169Z",
     "shell.execute_reply": "2022-12-11T11:28:44.622754Z"
    },
    "trusted": true
   },
   "execution_count": 19,
   "outputs": []
  },
  {
   "cell_type": "code",
   "source": [
    "#opt.drop(opt.head(10).index,inplace=True) \n",
    "#opt"
   ],
   "metadata": {
    "execution": {
     "iopub.status.busy": "2022-12-11T11:28:44.624684Z",
     "iopub.execute_input": "2022-12-11T11:28:44.625206Z",
     "iopub.status.idle": "2022-12-11T11:28:44.633135Z",
     "shell.execute_reply.started": "2022-12-11T11:28:44.625178Z",
     "shell.execute_reply": "2022-12-11T11:28:44.632396Z"
    },
    "trusted": true
   },
   "execution_count": 20,
   "outputs": []
  },
  {
   "cell_type": "code",
   "source": [
    "#call_price = opt[\"call_pv\"].mean()\n",
    "#call_price "
   ],
   "metadata": {
    "execution": {
     "iopub.status.busy": "2022-12-11T11:28:44.634547Z",
     "iopub.execute_input": "2022-12-11T11:28:44.635143Z",
     "iopub.status.idle": "2022-12-11T11:28:44.642063Z",
     "shell.execute_reply.started": "2022-12-11T11:28:44.635108Z",
     "shell.execute_reply": "2022-12-11T11:28:44.641245Z"
    },
    "trusted": true
   },
   "execution_count": 21,
   "outputs": []
  },
  {
   "cell_type": "code",
   "source": [
    "#put_price = opt[\"put_pv\"].mean()\n",
    "#put_price"
   ],
   "metadata": {
    "execution": {
     "iopub.status.busy": "2022-12-11T11:28:44.643275Z",
     "iopub.execute_input": "2022-12-11T11:28:44.643526Z",
     "iopub.status.idle": "2022-12-11T11:28:44.651595Z",
     "shell.execute_reply.started": "2022-12-11T11:28:44.643502Z",
     "shell.execute_reply": "2022-12-11T11:28:44.650890Z"
    },
    "trusted": true
   },
   "execution_count": 22,
   "outputs": []
  },
  {
   "cell_type": "code",
   "source": [
    "#opt.plot.scatter(x=\"final_price\",y=\"call_payoff\")\n",
    "#plt.title('Monte Carlo Call Payoff')\n",
    "#plt.xlabel('Stiock Price')\n",
    "#plt.ylabel('Payoff')"
   ],
   "metadata": {
    "execution": {
     "iopub.status.busy": "2022-12-11T11:28:44.652677Z",
     "iopub.execute_input": "2022-12-11T11:28:44.653127Z",
     "iopub.status.idle": "2022-12-11T11:28:44.660854Z",
     "shell.execute_reply.started": "2022-12-11T11:28:44.653101Z",
     "shell.execute_reply": "2022-12-11T11:28:44.660078Z"
    },
    "trusted": true
   },
   "execution_count": 23,
   "outputs": []
  },
  {
   "cell_type": "code",
   "source": [
    "#opt.plot.scatter(x=\"final_price\",y=\"put_payoff\")\n",
    "#plt.title('Monte Carlo Put Payoff')\n",
    "#plt.xlabel('Stiock Price')\n",
    "#plt.ylabel('Payoff')"
   ],
   "metadata": {
    "execution": {
     "iopub.status.busy": "2022-12-11T11:28:44.661804Z",
     "iopub.execute_input": "2022-12-11T11:28:44.662690Z",
     "iopub.status.idle": "2022-12-11T11:28:44.671246Z",
     "shell.execute_reply.started": "2022-12-11T11:28:44.662661Z",
     "shell.execute_reply": "2022-12-11T11:28:44.670434Z"
    },
    "trusted": true
   },
   "execution_count": 24,
   "outputs": []
  },
  {
   "cell_type": "code",
   "source": [
    "#opt.plot.scatter(x=\"final_price\",y=\"call_pv\")\n",
    "#plt.axhline(y=0.49816451, color='r', linestyle='-')\n",
    "#plt.title('Monte Carlo Call Price')\n",
    "#plt.xlabel('Stiock Price')\n",
    "#plt.ylabel('Option Price')"
   ],
   "metadata": {
    "execution": {
     "iopub.status.busy": "2022-12-11T11:28:44.672412Z",
     "iopub.execute_input": "2022-12-11T11:28:44.672845Z",
     "iopub.status.idle": "2022-12-11T11:28:44.679494Z",
     "shell.execute_reply.started": "2022-12-11T11:28:44.672819Z",
     "shell.execute_reply": "2022-12-11T11:28:44.678916Z"
    },
    "trusted": true
   },
   "execution_count": 25,
   "outputs": []
  },
  {
   "cell_type": "code",
   "source": [
    "#opt.plot.scatter(x=\"final_price\",y=\"put_pv\")\n",
    "#plt.axhline(y=0.108316996, color='r', linestyle='-')\n",
    "#plt.title('Monte Carlo Put Price')\n",
    "#plt.xlabel('Stiock Price')\n",
    "#plt.ylabel('Option Price')"
   ],
   "metadata": {
    "execution": {
     "iopub.status.busy": "2022-12-11T11:28:44.680516Z",
     "iopub.execute_input": "2022-12-11T11:28:44.680921Z",
     "iopub.status.idle": "2022-12-11T11:28:44.689827Z",
     "shell.execute_reply.started": "2022-12-11T11:28:44.680891Z",
     "shell.execute_reply": "2022-12-11T11:28:44.689094Z"
    },
    "trusted": true
   },
   "execution_count": 26,
   "outputs": []
  }
 ]
}
